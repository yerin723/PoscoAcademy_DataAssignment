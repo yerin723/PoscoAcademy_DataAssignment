{
 "cells": [
  {
   "cell_type": "markdown",
   "id": "420890eb",
   "metadata": {},
   "source": [
    "# 1. Python을 이용한 기술통계 - 타이타닉 탐색적 분석"
   ]
  },
  {
   "cell_type": "markdown",
   "id": "d8e3eeb0",
   "metadata": {},
   "source": [
    "# 1) 분석목표 : 생존률에 영향을 미치는 영향인자 도출"
   ]
  },
  {
   "cell_type": "markdown",
   "id": "44df0e14",
   "metadata": {},
   "source": [
    "# 2) 변수설명\n",
    "1. Pclass : 승객 등급. 1,2,3등석.\n",
    "2. Name, Sex, Age : 차례대로 이름, 성별, 나이 \n",
    "3. SibSp : 함께 탑승한 형제, 배우자의 수.\n",
    "4. Parch : 함께 탑승한 자녀, 부모의 수.\n",
    "5. Ticket : 티켓 아이디\n",
    "6. Fare : 티켓 요금(파운드)\n",
    "7. Cabin : 객실 번호\n",
    "8. Embarked : 승객이 탑승한 곳. C(Cherbourg), Q(Queenstown), S(Southampton)"
   ]
  },
  {
   "cell_type": "code",
   "execution_count": 146,
   "id": "0fc76597",
   "metadata": {},
   "outputs": [],
   "source": [
    "import pandas as pd \n",
    "import numpy as np\n",
    "import matplotlib\n",
    "import seaborn as sns\n",
    "from matplotlib import pyplot as plt\n",
    "from sklearn.preprocessing import StandardScaler, MinMaxScaler, RobustScaler #Scaling 클래스\n",
    "\n",
    "plt.rcParams['font.family'] = 'NanumGothicCoding' #한글폰트 설정"
   ]
  },
  {
   "cell_type": "markdown",
   "id": "2964fbf7",
   "metadata": {},
   "source": [
    "# 데이터 속성 및 기술통계량 확인"
   ]
  },
  {
   "cell_type": "code",
   "execution_count": 147,
   "id": "e3aa07df",
   "metadata": {},
   "outputs": [
    {
     "data": {
      "text/html": [
       "<div>\n",
       "<style scoped>\n",
       "    .dataframe tbody tr th:only-of-type {\n",
       "        vertical-align: middle;\n",
       "    }\n",
       "\n",
       "    .dataframe tbody tr th {\n",
       "        vertical-align: top;\n",
       "    }\n",
       "\n",
       "    .dataframe thead th {\n",
       "        text-align: right;\n",
       "    }\n",
       "</style>\n",
       "<table border=\"1\" class=\"dataframe\">\n",
       "  <thead>\n",
       "    <tr style=\"text-align: right;\">\n",
       "      <th></th>\n",
       "      <th>PassengerId</th>\n",
       "      <th>Survived</th>\n",
       "      <th>Pclass</th>\n",
       "      <th>Name</th>\n",
       "      <th>Sex</th>\n",
       "      <th>Age</th>\n",
       "      <th>SibSp</th>\n",
       "      <th>Parch</th>\n",
       "      <th>Ticket</th>\n",
       "      <th>Fare</th>\n",
       "      <th>Cabin</th>\n",
       "      <th>Embarked</th>\n",
       "    </tr>\n",
       "  </thead>\n",
       "  <tbody>\n",
       "    <tr>\n",
       "      <th>0</th>\n",
       "      <td>1</td>\n",
       "      <td>0</td>\n",
       "      <td>3</td>\n",
       "      <td>Braund, Mr. Owen Harris</td>\n",
       "      <td>male</td>\n",
       "      <td>22.0</td>\n",
       "      <td>1</td>\n",
       "      <td>0</td>\n",
       "      <td>A/5 21171</td>\n",
       "      <td>7.2500</td>\n",
       "      <td>NaN</td>\n",
       "      <td>S</td>\n",
       "    </tr>\n",
       "    <tr>\n",
       "      <th>1</th>\n",
       "      <td>2</td>\n",
       "      <td>1</td>\n",
       "      <td>1</td>\n",
       "      <td>Cumings, Mrs. John Bradley (Florence Briggs Th...</td>\n",
       "      <td>female</td>\n",
       "      <td>38.0</td>\n",
       "      <td>1</td>\n",
       "      <td>0</td>\n",
       "      <td>PC 17599</td>\n",
       "      <td>71.2833</td>\n",
       "      <td>C85</td>\n",
       "      <td>C</td>\n",
       "    </tr>\n",
       "    <tr>\n",
       "      <th>2</th>\n",
       "      <td>3</td>\n",
       "      <td>1</td>\n",
       "      <td>3</td>\n",
       "      <td>Heikkinen, Miss. Laina</td>\n",
       "      <td>female</td>\n",
       "      <td>26.0</td>\n",
       "      <td>0</td>\n",
       "      <td>0</td>\n",
       "      <td>STON/O2. 3101282</td>\n",
       "      <td>7.9250</td>\n",
       "      <td>NaN</td>\n",
       "      <td>S</td>\n",
       "    </tr>\n",
       "    <tr>\n",
       "      <th>3</th>\n",
       "      <td>4</td>\n",
       "      <td>1</td>\n",
       "      <td>1</td>\n",
       "      <td>Futrelle, Mrs. Jacques Heath (Lily May Peel)</td>\n",
       "      <td>female</td>\n",
       "      <td>35.0</td>\n",
       "      <td>1</td>\n",
       "      <td>0</td>\n",
       "      <td>113803</td>\n",
       "      <td>53.1000</td>\n",
       "      <td>C123</td>\n",
       "      <td>S</td>\n",
       "    </tr>\n",
       "    <tr>\n",
       "      <th>4</th>\n",
       "      <td>5</td>\n",
       "      <td>0</td>\n",
       "      <td>3</td>\n",
       "      <td>Allen, Mr. William Henry</td>\n",
       "      <td>male</td>\n",
       "      <td>35.0</td>\n",
       "      <td>0</td>\n",
       "      <td>0</td>\n",
       "      <td>373450</td>\n",
       "      <td>8.0500</td>\n",
       "      <td>NaN</td>\n",
       "      <td>S</td>\n",
       "    </tr>\n",
       "    <tr>\n",
       "      <th>...</th>\n",
       "      <td>...</td>\n",
       "      <td>...</td>\n",
       "      <td>...</td>\n",
       "      <td>...</td>\n",
       "      <td>...</td>\n",
       "      <td>...</td>\n",
       "      <td>...</td>\n",
       "      <td>...</td>\n",
       "      <td>...</td>\n",
       "      <td>...</td>\n",
       "      <td>...</td>\n",
       "      <td>...</td>\n",
       "    </tr>\n",
       "    <tr>\n",
       "      <th>886</th>\n",
       "      <td>887</td>\n",
       "      <td>0</td>\n",
       "      <td>2</td>\n",
       "      <td>Montvila, Rev. Juozas</td>\n",
       "      <td>male</td>\n",
       "      <td>27.0</td>\n",
       "      <td>0</td>\n",
       "      <td>0</td>\n",
       "      <td>211536</td>\n",
       "      <td>13.0000</td>\n",
       "      <td>NaN</td>\n",
       "      <td>S</td>\n",
       "    </tr>\n",
       "    <tr>\n",
       "      <th>887</th>\n",
       "      <td>888</td>\n",
       "      <td>1</td>\n",
       "      <td>1</td>\n",
       "      <td>Graham, Miss. Margaret Edith</td>\n",
       "      <td>female</td>\n",
       "      <td>19.0</td>\n",
       "      <td>0</td>\n",
       "      <td>0</td>\n",
       "      <td>112053</td>\n",
       "      <td>30.0000</td>\n",
       "      <td>B42</td>\n",
       "      <td>S</td>\n",
       "    </tr>\n",
       "    <tr>\n",
       "      <th>888</th>\n",
       "      <td>889</td>\n",
       "      <td>0</td>\n",
       "      <td>3</td>\n",
       "      <td>Johnston, Miss. Catherine Helen \"Carrie\"</td>\n",
       "      <td>female</td>\n",
       "      <td>30.0</td>\n",
       "      <td>1</td>\n",
       "      <td>2</td>\n",
       "      <td>W./C. 6607</td>\n",
       "      <td>23.4500</td>\n",
       "      <td>NaN</td>\n",
       "      <td>S</td>\n",
       "    </tr>\n",
       "    <tr>\n",
       "      <th>889</th>\n",
       "      <td>890</td>\n",
       "      <td>1</td>\n",
       "      <td>1</td>\n",
       "      <td>Behr, Mr. Karl Howell</td>\n",
       "      <td>male</td>\n",
       "      <td>26.0</td>\n",
       "      <td>0</td>\n",
       "      <td>0</td>\n",
       "      <td>111369</td>\n",
       "      <td>30.0000</td>\n",
       "      <td>C148</td>\n",
       "      <td>C</td>\n",
       "    </tr>\n",
       "    <tr>\n",
       "      <th>890</th>\n",
       "      <td>891</td>\n",
       "      <td>0</td>\n",
       "      <td>3</td>\n",
       "      <td>Dooley, Mr. Patrick</td>\n",
       "      <td>male</td>\n",
       "      <td>32.0</td>\n",
       "      <td>0</td>\n",
       "      <td>0</td>\n",
       "      <td>370376</td>\n",
       "      <td>7.7500</td>\n",
       "      <td>NaN</td>\n",
       "      <td>Q</td>\n",
       "    </tr>\n",
       "  </tbody>\n",
       "</table>\n",
       "<p>891 rows × 12 columns</p>\n",
       "</div>"
      ],
      "text/plain": [
       "     PassengerId  Survived  Pclass  \\\n",
       "0              1         0       3   \n",
       "1              2         1       1   \n",
       "2              3         1       3   \n",
       "3              4         1       1   \n",
       "4              5         0       3   \n",
       "..           ...       ...     ...   \n",
       "886          887         0       2   \n",
       "887          888         1       1   \n",
       "888          889         0       3   \n",
       "889          890         1       1   \n",
       "890          891         0       3   \n",
       "\n",
       "                                                  Name     Sex   Age  SibSp  \\\n",
       "0                              Braund, Mr. Owen Harris    male  22.0      1   \n",
       "1    Cumings, Mrs. John Bradley (Florence Briggs Th...  female  38.0      1   \n",
       "2                               Heikkinen, Miss. Laina  female  26.0      0   \n",
       "3         Futrelle, Mrs. Jacques Heath (Lily May Peel)  female  35.0      1   \n",
       "4                             Allen, Mr. William Henry    male  35.0      0   \n",
       "..                                                 ...     ...   ...    ...   \n",
       "886                              Montvila, Rev. Juozas    male  27.0      0   \n",
       "887                       Graham, Miss. Margaret Edith  female  19.0      0   \n",
       "888           Johnston, Miss. Catherine Helen \"Carrie\"  female  30.0      1   \n",
       "889                              Behr, Mr. Karl Howell    male  26.0      0   \n",
       "890                                Dooley, Mr. Patrick    male  32.0      0   \n",
       "\n",
       "     Parch            Ticket     Fare Cabin Embarked  \n",
       "0        0         A/5 21171   7.2500   NaN        S  \n",
       "1        0          PC 17599  71.2833   C85        C  \n",
       "2        0  STON/O2. 3101282   7.9250   NaN        S  \n",
       "3        0            113803  53.1000  C123        S  \n",
       "4        0            373450   8.0500   NaN        S  \n",
       "..     ...               ...      ...   ...      ...  \n",
       "886      0            211536  13.0000   NaN        S  \n",
       "887      0            112053  30.0000   B42        S  \n",
       "888      2        W./C. 6607  23.4500   NaN        S  \n",
       "889      0            111369  30.0000  C148        C  \n",
       "890      0            370376   7.7500   NaN        Q  \n",
       "\n",
       "[891 rows x 12 columns]"
      ]
     },
     "execution_count": 147,
     "metadata": {},
     "output_type": "execute_result"
    }
   ],
   "source": [
    "#titanic 데이터셋의 주요 통계치와 데이터 정보 출력\n",
    "df = pd.read_csv(\"/home/piai/다운로드/실습화일/1 Big Data 분석 기초/titanic.csv\", encoding = 'euc-kr')\n",
    "df "
   ]
  },
  {
   "cell_type": "code",
   "execution_count": 148,
   "id": "26d79811",
   "metadata": {},
   "outputs": [
    {
     "data": {
      "text/html": [
       "<div>\n",
       "<style scoped>\n",
       "    .dataframe tbody tr th:only-of-type {\n",
       "        vertical-align: middle;\n",
       "    }\n",
       "\n",
       "    .dataframe tbody tr th {\n",
       "        vertical-align: top;\n",
       "    }\n",
       "\n",
       "    .dataframe thead th {\n",
       "        text-align: right;\n",
       "    }\n",
       "</style>\n",
       "<table border=\"1\" class=\"dataframe\">\n",
       "  <thead>\n",
       "    <tr style=\"text-align: right;\">\n",
       "      <th></th>\n",
       "      <th>PassengerId</th>\n",
       "      <th>Survived</th>\n",
       "      <th>Pclass</th>\n",
       "      <th>Age</th>\n",
       "      <th>SibSp</th>\n",
       "      <th>Parch</th>\n",
       "      <th>Fare</th>\n",
       "    </tr>\n",
       "  </thead>\n",
       "  <tbody>\n",
       "    <tr>\n",
       "      <th>count</th>\n",
       "      <td>891.000000</td>\n",
       "      <td>891.000000</td>\n",
       "      <td>891.000000</td>\n",
       "      <td>891.000000</td>\n",
       "      <td>891.000000</td>\n",
       "      <td>891.000000</td>\n",
       "      <td>891.000000</td>\n",
       "    </tr>\n",
       "    <tr>\n",
       "      <th>mean</th>\n",
       "      <td>446.000000</td>\n",
       "      <td>0.383838</td>\n",
       "      <td>2.308642</td>\n",
       "      <td>29.758889</td>\n",
       "      <td>0.523008</td>\n",
       "      <td>0.381594</td>\n",
       "      <td>32.204208</td>\n",
       "    </tr>\n",
       "    <tr>\n",
       "      <th>std</th>\n",
       "      <td>257.353842</td>\n",
       "      <td>0.486592</td>\n",
       "      <td>0.836071</td>\n",
       "      <td>13.002570</td>\n",
       "      <td>1.102743</td>\n",
       "      <td>0.806057</td>\n",
       "      <td>49.693429</td>\n",
       "    </tr>\n",
       "    <tr>\n",
       "      <th>min</th>\n",
       "      <td>1.000000</td>\n",
       "      <td>0.000000</td>\n",
       "      <td>1.000000</td>\n",
       "      <td>0.420000</td>\n",
       "      <td>0.000000</td>\n",
       "      <td>0.000000</td>\n",
       "      <td>0.000000</td>\n",
       "    </tr>\n",
       "    <tr>\n",
       "      <th>25%</th>\n",
       "      <td>223.500000</td>\n",
       "      <td>0.000000</td>\n",
       "      <td>2.000000</td>\n",
       "      <td>22.000000</td>\n",
       "      <td>0.000000</td>\n",
       "      <td>0.000000</td>\n",
       "      <td>7.910400</td>\n",
       "    </tr>\n",
       "    <tr>\n",
       "      <th>50%</th>\n",
       "      <td>446.000000</td>\n",
       "      <td>0.000000</td>\n",
       "      <td>3.000000</td>\n",
       "      <td>30.000000</td>\n",
       "      <td>0.000000</td>\n",
       "      <td>0.000000</td>\n",
       "      <td>14.454200</td>\n",
       "    </tr>\n",
       "    <tr>\n",
       "      <th>75%</th>\n",
       "      <td>668.500000</td>\n",
       "      <td>1.000000</td>\n",
       "      <td>3.000000</td>\n",
       "      <td>35.000000</td>\n",
       "      <td>1.000000</td>\n",
       "      <td>0.000000</td>\n",
       "      <td>31.000000</td>\n",
       "    </tr>\n",
       "    <tr>\n",
       "      <th>max</th>\n",
       "      <td>891.000000</td>\n",
       "      <td>1.000000</td>\n",
       "      <td>3.000000</td>\n",
       "      <td>80.000000</td>\n",
       "      <td>8.000000</td>\n",
       "      <td>6.000000</td>\n",
       "      <td>512.329200</td>\n",
       "    </tr>\n",
       "  </tbody>\n",
       "</table>\n",
       "</div>"
      ],
      "text/plain": [
       "       PassengerId    Survived      Pclass         Age       SibSp  \\\n",
       "count   891.000000  891.000000  891.000000  891.000000  891.000000   \n",
       "mean    446.000000    0.383838    2.308642   29.758889    0.523008   \n",
       "std     257.353842    0.486592    0.836071   13.002570    1.102743   \n",
       "min       1.000000    0.000000    1.000000    0.420000    0.000000   \n",
       "25%     223.500000    0.000000    2.000000   22.000000    0.000000   \n",
       "50%     446.000000    0.000000    3.000000   30.000000    0.000000   \n",
       "75%     668.500000    1.000000    3.000000   35.000000    1.000000   \n",
       "max     891.000000    1.000000    3.000000   80.000000    8.000000   \n",
       "\n",
       "            Parch        Fare  \n",
       "count  891.000000  891.000000  \n",
       "mean     0.381594   32.204208  \n",
       "std      0.806057   49.693429  \n",
       "min      0.000000    0.000000  \n",
       "25%      0.000000    7.910400  \n",
       "50%      0.000000   14.454200  \n",
       "75%      0.000000   31.000000  \n",
       "max      6.000000  512.329200  "
      ]
     },
     "execution_count": 148,
     "metadata": {},
     "output_type": "execute_result"
    }
   ],
   "source": [
    "df.describe() #각 열에 대한 주요 통계치를 요약하여 출력"
   ]
  },
  {
   "cell_type": "markdown",
   "id": "a4316cde",
   "metadata": {},
   "source": [
    "# 위 통계치 중 아래 세 개는 다음과 같은 의미를 담고있다.\n",
    "> 1. count(개수) : 해당 열에 결측치를 제외한 실제 데이터의 개수\n",
    "> 2. mean(평균) : 해당 열의 평균값\n",
    "> 3. std(Standard Deviation 표준편차) : 해당 열의 값들이 평균에서 얼마나 퍼져있는가?\n",
    "\n",
    "즉, 위 결괏값에서 생존율은 38%라는 점을 알 수 있다. (mean의 Survived = 0.383838)"
   ]
  },
  {
   "cell_type": "code",
   "execution_count": 149,
   "id": "fe6fd959",
   "metadata": {
    "scrolled": false
   },
   "outputs": [
    {
     "name": "stdout",
     "output_type": "stream",
     "text": [
      "<class 'pandas.core.frame.DataFrame'>\n",
      "RangeIndex: 891 entries, 0 to 890\n",
      "Data columns (total 12 columns):\n",
      " #   Column       Non-Null Count  Dtype  \n",
      "---  ------       --------------  -----  \n",
      " 0   PassengerId  891 non-null    int64  \n",
      " 1   Survived     891 non-null    int64  \n",
      " 2   Pclass       891 non-null    int64  \n",
      " 3   Name         891 non-null    object \n",
      " 4   Sex          891 non-null    object \n",
      " 5   Age          891 non-null    float64\n",
      " 6   SibSp        891 non-null    int64  \n",
      " 7   Parch        891 non-null    int64  \n",
      " 8   Ticket       891 non-null    object \n",
      " 9   Fare         891 non-null    float64\n",
      " 10  Cabin        204 non-null    object \n",
      " 11  Embarked     889 non-null    object \n",
      "dtypes: float64(2), int64(5), object(5)\n",
      "memory usage: 83.7+ KB\n"
     ]
    }
   ],
   "source": [
    "df.info() #데이터 정보"
   ]
  },
  {
   "cell_type": "markdown",
   "id": "a1cb63bf",
   "metadata": {},
   "source": [
    "# 변수들의 결측 및 이상치 처리"
   ]
  },
  {
   "cell_type": "markdown",
   "id": "dd3bf3b4",
   "metadata": {},
   "source": [
    "이제 데이터의 결측치를 확인해보자."
   ]
  },
  {
   "cell_type": "code",
   "execution_count": 150,
   "id": "2e464c78",
   "metadata": {
    "scrolled": true
   },
   "outputs": [
    {
     "data": {
      "text/plain": [
       "PassengerId      0\n",
       "Survived         0\n",
       "Pclass           0\n",
       "Name             0\n",
       "Sex              0\n",
       "Age              0\n",
       "SibSp            0\n",
       "Parch            0\n",
       "Ticket           0\n",
       "Fare             0\n",
       "Cabin          687\n",
       "Embarked         2\n",
       "dtype: int64"
      ]
     },
     "execution_count": 150,
     "metadata": {},
     "output_type": "execute_result"
    }
   ],
   "source": [
    "df.isnull().sum() #데이터 결측값"
   ]
  },
  {
   "cell_type": "markdown",
   "id": "792fd9b3",
   "metadata": {},
   "source": [
    "위 결괏값에서 Cabin의 결측치가 많이 나온다는 것을 알 수 있다.\n",
    "(*결측값 : 데이터가 존재하지 않거나 수집하지 못한 경우에 자주 발생)\n",
    "\n",
    "처음에는 객실 번호(Cabin)에 따라 더욱 안전한 객실이 있을 것으로 생각했지만(위치를 기반으로) 결측값이 많이 나와 삭제하기로 결정했다.<br>\n",
    "또한 이름(Name), 티켓 아이디(Ticket), 티켓 요금(Fare)도 생존과 관계가 없다고 판단하여 삭제하기로 결정했다.<br>\n",
    "(객실 등급이 1등급일 수록, 티켓 요금도 비싸질거라 판단하에 티켓 요금을 지우고 객실 등급 데이터를 남겨뒀다.)"
   ]
  },
  {
   "cell_type": "code",
   "execution_count": 151,
   "id": "9d7307b1",
   "metadata": {},
   "outputs": [],
   "source": [
    "df = df.drop(['Cabin', 'Name', 'Ticket', 'Fare'], axis = 1)"
   ]
  },
  {
   "cell_type": "markdown",
   "id": "f57b5b78",
   "metadata": {},
   "source": [
    "아래와 같이 isnull().sum()을 사용해서 확인해보니 'Cabin', 'Name', 'Ticket', 'Fare' 데이터 값이 사라진 것을 확인할 수 있다."
   ]
  },
  {
   "cell_type": "code",
   "execution_count": 105,
   "id": "b3610926",
   "metadata": {},
   "outputs": [
    {
     "data": {
      "text/plain": [
       "PassengerId    0\n",
       "Survived       0\n",
       "Pclass         0\n",
       "Sex            0\n",
       "Age            0\n",
       "SibSp          0\n",
       "Parch          0\n",
       "Embarked       2\n",
       "dtype: int64"
      ]
     },
     "execution_count": 105,
     "metadata": {},
     "output_type": "execute_result"
    }
   ],
   "source": [
    "df.isnull().sum() #데이터 결측값"
   ]
  },
  {
   "cell_type": "code",
   "execution_count": 155,
   "id": "40778ae0",
   "metadata": {},
   "outputs": [
    {
     "data": {
      "text/plain": [
       "C    168\n",
       "Q     77\n",
       "S    644\n",
       "Name: Embarked, dtype: int64"
      ]
     },
     "execution_count": 155,
     "metadata": {},
     "output_type": "execute_result"
    }
   ],
   "source": [
    "df2 = df['Embarked'].value_counts().sort_index() #Embarked에서 S의 값이 가장 많음"
   ]
  },
  {
   "cell_type": "code",
   "execution_count": 161,
   "id": "26505aba",
   "metadata": {},
   "outputs": [],
   "source": [
    "df['Embarked'].fillna('S', inplace = True) #df의 Embarked열에서 결측값을 S로 대체"
   ]
  },
  {
   "cell_type": "code",
   "execution_count": 163,
   "id": "6cb7b8c8",
   "metadata": {},
   "outputs": [
    {
     "data": {
      "text/plain": [
       "PassengerId    0\n",
       "Survived       0\n",
       "Pclass         0\n",
       "Sex            0\n",
       "Age            0\n",
       "SibSp          0\n",
       "Parch          0\n",
       "Embarked       0\n",
       "dtype: int64"
      ]
     },
     "execution_count": 163,
     "metadata": {},
     "output_type": "execute_result"
    }
   ],
   "source": [
    "df.isnull().sum() #데이터 결측값 재확인 (모두 0이 된 것을 확인할 수 있음)"
   ]
  },
  {
   "cell_type": "code",
   "execution_count": 166,
   "id": "2fd36e17",
   "metadata": {},
   "outputs": [
    {
     "data": {
      "text/plain": [
       "<Axes: >"
      ]
     },
     "execution_count": 166,
     "metadata": {},
     "output_type": "execute_result"
    },
    {
     "data": {
      "image/png": "[encoded data removed]",
      "text/plain": [
       "<Figure size 1000x400 with 1 Axes>"
      ]
     },
     "metadata": {},
     "output_type": "display_data"
    }
   ],
   "source": [
    "df.boxplot(figsize = (10, 4)) #이상치 확인을 위해 boxplot을 그렸으나, 이상치는 없단 것으로 판단"
   ]
  },
  {
   "cell_type": "markdown",
   "id": "a5aaa664",
   "metadata": {},
   "source": [
    "# 그래프 분석을 통해 변수간 관계를 확인"
   ]
  },
  {
   "cell_type": "markdown",
   "id": "e85fd995",
   "metadata": {},
   "source": [
    "1. Pclass와 survived의 관계를 살펴보자."
   ]
  },
  {
   "cell_type": "code",
   "execution_count": 164,
   "id": "44c064bc",
   "metadata": {},
   "outputs": [
    {
     "data": {
      "text/html": [
       "<div>\n",
       "<style scoped>\n",
       "    .dataframe tbody tr th:only-of-type {\n",
       "        vertical-align: middle;\n",
       "    }\n",
       "\n",
       "    .dataframe tbody tr th {\n",
       "        vertical-align: top;\n",
       "    }\n",
       "\n",
       "    .dataframe thead th {\n",
       "        text-align: right;\n",
       "    }\n",
       "</style>\n",
       "<table border=\"1\" class=\"dataframe\">\n",
       "  <thead>\n",
       "    <tr style=\"text-align: right;\">\n",
       "      <th></th>\n",
       "      <th>Pclass</th>\n",
       "      <th>Survived</th>\n",
       "    </tr>\n",
       "  </thead>\n",
       "  <tbody>\n",
       "    <tr>\n",
       "      <th>0</th>\n",
       "      <td>1</td>\n",
       "      <td>0.629630</td>\n",
       "    </tr>\n",
       "    <tr>\n",
       "      <th>1</th>\n",
       "      <td>2</td>\n",
       "      <td>0.472826</td>\n",
       "    </tr>\n",
       "    <tr>\n",
       "      <th>2</th>\n",
       "      <td>3</td>\n",
       "      <td>0.242363</td>\n",
       "    </tr>\n",
       "  </tbody>\n",
       "</table>\n",
       "</div>"
      ],
      "text/plain": [
       "   Pclass  Survived\n",
       "0       1  0.629630\n",
       "1       2  0.472826\n",
       "2       3  0.242363"
      ]
     },
     "execution_count": 164,
     "metadata": {},
     "output_type": "execute_result"
    }
   ],
   "source": [
    "df[['Pclass','Survived']].groupby(['Pclass'], as_index = False).mean().sort_values(by = 'Survived', ascending = False)"
   ]
  },
  {
   "cell_type": "markdown",
   "id": "ae8cf008",
   "metadata": {},
   "source": [
    "Pclass와 Survived열을 선택하고, Pclass를 기준으로 그룹화 한 후 Survived의 평균값을 계산하여 내림차순으로 정렬하였다.<br>\n",
    "즉, 각각의 Pclass별 생존률을 계산하여 생존율이 높은 순서로 출력한다.<br>\n",
    "여기서는 객실 등급이 좋을수록(사회/경제적 지위가 높을수록) 생존율이 높다는 사실을 알 수 있다.<br>\n",
    "<br>\n",
    "위 결과를 토대로 간단한 도메인 지식을 검색해보니 3등실은 여러 구역이 철창으로 막혀 제한되어 있었고 배가 미로처럼 복잡했기 때문에 탈출에 지장이 있었으며, <br>3등실 승객들 중에는 영어를 잘 하지 못하는 승객들도 많았다고 한다.\n",
    "\n",
    "또한 이 결과를 통해 1등급의 위치가 탈출하기 좋은 위치였을 거라고 생각이 든다."
   ]
  },
  {
   "cell_type": "code",
   "execution_count": 165,
   "id": "96d0a3f4",
   "metadata": {},
   "outputs": [
    {
     "data": {
      "image/png": "[encoded data removed]",
      "text/plain": [
       "<Figure size 640x480 with 1 Axes>"
      ]
     },
     "metadata": {},
     "output_type": "display_data"
    }
   ],
   "source": [
    "chart = sns.barplot(x = 'Pclass', y = 'Survived', data = df) #barplot()함수를 이용해 막대 그래프 그리기 (시각화)"
   ]
  },
  {
   "cell_type": "markdown",
   "id": "90efd4dd",
   "metadata": {},
   "source": [
    "2. Sex와 survived의 관계를 살펴보자."
   ]
  },
  {
   "cell_type": "code",
   "execution_count": 108,
   "id": "a9171437",
   "metadata": {},
   "outputs": [
    {
     "data": {
      "text/html": [
       "<div>\n",
       "<style scoped>\n",
       "    .dataframe tbody tr th:only-of-type {\n",
       "        vertical-align: middle;\n",
       "    }\n",
       "\n",
       "    .dataframe tbody tr th {\n",
       "        vertical-align: top;\n",
       "    }\n",
       "\n",
       "    .dataframe thead th {\n",
       "        text-align: right;\n",
       "    }\n",
       "</style>\n",
       "<table border=\"1\" class=\"dataframe\">\n",
       "  <thead>\n",
       "    <tr style=\"text-align: right;\">\n",
       "      <th></th>\n",
       "      <th>Sex</th>\n",
       "      <th>Survived</th>\n",
       "    </tr>\n",
       "  </thead>\n",
       "  <tbody>\n",
       "    <tr>\n",
       "      <th>0</th>\n",
       "      <td>female</td>\n",
       "      <td>0.742038</td>\n",
       "    </tr>\n",
       "    <tr>\n",
       "      <th>1</th>\n",
       "      <td>male</td>\n",
       "      <td>0.188908</td>\n",
       "    </tr>\n",
       "  </tbody>\n",
       "</table>\n",
       "</div>"
      ],
      "text/plain": [
       "      Sex  Survived\n",
       "0  female  0.742038\n",
       "1    male  0.188908"
      ]
     },
     "execution_count": 108,
     "metadata": {},
     "output_type": "execute_result"
    }
   ],
   "source": [
    "df[['Sex','Survived']].groupby(['Sex'], as_index = False).mean().sort_values(by = 'Survived', ascending = False)"
   ]
  },
  {
   "cell_type": "markdown",
   "id": "b54d7239",
   "metadata": {},
   "source": [
    "위 결괏값에서 여성(female)의 경우 생존률이 평균 0.74로, 남성의 경우 생존률이 0.19로 나타났다.<br>\n",
    "즉, 이를 통해 여성이 남성보다 생존 확률이 높다는 것을 알 수 있다.\n",
    "<br>\n",
    "위 결과를 토대로 간단한 도메인 지식을 검색해보니 이 사건이 일어난 1912년 시대적 배경에는 “Lady First”라는 개념이 존재했다고 한다.<br>\n",
    "따라서 어린이와 여자부터 우선적으로 구조 했기에 여자의 생존률이 더 높다고 생각된다."
   ]
  },
  {
   "cell_type": "code",
   "execution_count": 109,
   "id": "c366cd29",
   "metadata": {},
   "outputs": [
    {
     "data": {
      "image/png": "[encoded data removed]",
      "text/plain": [
       "<Figure size 640x480 with 1 Axes>"
      ]
     },
     "metadata": {},
     "output_type": "display_data"
    }
   ],
   "source": [
    "sns.barplot(x = 'Sex', y = 'Survived', data = df) #barplot()함수를 이용해 막대 그래프 그리기 (시각화)\n",
    "plt.show()"
   ]
  },
  {
   "cell_type": "markdown",
   "id": "449782a0",
   "metadata": {},
   "source": [
    "3. Parch와 survived의 관계를 살펴보자."
   ]
  },
  {
   "cell_type": "code",
   "execution_count": 174,
   "id": "a831f272",
   "metadata": {},
   "outputs": [
    {
     "data": {
      "text/html": [
       "<div>\n",
       "<style scoped>\n",
       "    .dataframe tbody tr th:only-of-type {\n",
       "        vertical-align: middle;\n",
       "    }\n",
       "\n",
       "    .dataframe tbody tr th {\n",
       "        vertical-align: top;\n",
       "    }\n",
       "\n",
       "    .dataframe thead th {\n",
       "        text-align: right;\n",
       "    }\n",
       "</style>\n",
       "<table border=\"1\" class=\"dataframe\">\n",
       "  <thead>\n",
       "    <tr style=\"text-align: right;\">\n",
       "      <th></th>\n",
       "      <th>Parch</th>\n",
       "      <th>Survived</th>\n",
       "    </tr>\n",
       "  </thead>\n",
       "  <tbody>\n",
       "    <tr>\n",
       "      <th>3</th>\n",
       "      <td>3</td>\n",
       "      <td>0.600000</td>\n",
       "    </tr>\n",
       "    <tr>\n",
       "      <th>1</th>\n",
       "      <td>1</td>\n",
       "      <td>0.550847</td>\n",
       "    </tr>\n",
       "    <tr>\n",
       "      <th>2</th>\n",
       "      <td>2</td>\n",
       "      <td>0.500000</td>\n",
       "    </tr>\n",
       "    <tr>\n",
       "      <th>0</th>\n",
       "      <td>0</td>\n",
       "      <td>0.343658</td>\n",
       "    </tr>\n",
       "    <tr>\n",
       "      <th>5</th>\n",
       "      <td>5</td>\n",
       "      <td>0.200000</td>\n",
       "    </tr>\n",
       "    <tr>\n",
       "      <th>4</th>\n",
       "      <td>4</td>\n",
       "      <td>0.000000</td>\n",
       "    </tr>\n",
       "    <tr>\n",
       "      <th>6</th>\n",
       "      <td>6</td>\n",
       "      <td>0.000000</td>\n",
       "    </tr>\n",
       "  </tbody>\n",
       "</table>\n",
       "</div>"
      ],
      "text/plain": [
       "   Parch  Survived\n",
       "3      3  0.600000\n",
       "1      1  0.550847\n",
       "2      2  0.500000\n",
       "0      0  0.343658\n",
       "5      5  0.200000\n",
       "4      4  0.000000\n",
       "6      6  0.000000"
      ]
     },
     "execution_count": 174,
     "metadata": {},
     "output_type": "execute_result"
    }
   ],
   "source": [
    "df[['Parch','Survived']].groupby(['Parch'], as_index = False).mean().sort_values(by = 'Survived', ascending = False)"
   ]
  },
  {
   "cell_type": "markdown",
   "id": "b4829c24",
   "metadata": {},
   "source": [
    "위 결괏값에서 부모, 자녀와 함께 탑승한 인원 수에 따른 생존률의 차이는 크지 않다는 것을 알 수 있다."
   ]
  },
  {
   "cell_type": "markdown",
   "id": "5e4451f6",
   "metadata": {},
   "source": [
    "4. SibSp와 survived의 관계를 살펴보자."
   ]
  },
  {
   "cell_type": "code",
   "execution_count": 175,
   "id": "b7fa511f",
   "metadata": {},
   "outputs": [
    {
     "data": {
      "text/html": [
       "<div>\n",
       "<style scoped>\n",
       "    .dataframe tbody tr th:only-of-type {\n",
       "        vertical-align: middle;\n",
       "    }\n",
       "\n",
       "    .dataframe tbody tr th {\n",
       "        vertical-align: top;\n",
       "    }\n",
       "\n",
       "    .dataframe thead th {\n",
       "        text-align: right;\n",
       "    }\n",
       "</style>\n",
       "<table border=\"1\" class=\"dataframe\">\n",
       "  <thead>\n",
       "    <tr style=\"text-align: right;\">\n",
       "      <th></th>\n",
       "      <th>SibSp</th>\n",
       "      <th>Survived</th>\n",
       "    </tr>\n",
       "  </thead>\n",
       "  <tbody>\n",
       "    <tr>\n",
       "      <th>1</th>\n",
       "      <td>1</td>\n",
       "      <td>0.535885</td>\n",
       "    </tr>\n",
       "    <tr>\n",
       "      <th>2</th>\n",
       "      <td>2</td>\n",
       "      <td>0.464286</td>\n",
       "    </tr>\n",
       "    <tr>\n",
       "      <th>0</th>\n",
       "      <td>0</td>\n",
       "      <td>0.345395</td>\n",
       "    </tr>\n",
       "    <tr>\n",
       "      <th>3</th>\n",
       "      <td>3</td>\n",
       "      <td>0.250000</td>\n",
       "    </tr>\n",
       "    <tr>\n",
       "      <th>4</th>\n",
       "      <td>4</td>\n",
       "      <td>0.166667</td>\n",
       "    </tr>\n",
       "    <tr>\n",
       "      <th>5</th>\n",
       "      <td>5</td>\n",
       "      <td>0.000000</td>\n",
       "    </tr>\n",
       "    <tr>\n",
       "      <th>6</th>\n",
       "      <td>8</td>\n",
       "      <td>0.000000</td>\n",
       "    </tr>\n",
       "  </tbody>\n",
       "</table>\n",
       "</div>"
      ],
      "text/plain": [
       "   SibSp  Survived\n",
       "1      1  0.535885\n",
       "2      2  0.464286\n",
       "0      0  0.345395\n",
       "3      3  0.250000\n",
       "4      4  0.166667\n",
       "5      5  0.000000\n",
       "6      8  0.000000"
      ]
     },
     "execution_count": 175,
     "metadata": {},
     "output_type": "execute_result"
    }
   ],
   "source": [
    "df[['SibSp','Survived']].groupby(['SibSp'], as_index = False).mean().sort_values(by = 'Survived', ascending = False)"
   ]
  },
  {
   "cell_type": "markdown",
   "id": "233945cf",
   "metadata": {},
   "source": [
    "위 결괏값에서 형제, 자매와 함께 배에 탑승한 경우가 혼자 탑승한 경우보다 생존 확률이 높다는 것을 알 수 있다.<br>\n",
    "하지만 형제, 자매나 배우자가 세 명 이상인 경우에는 생존 확률이 훨씬 낮아지는 것을 확인할 수 있다.<br>\n",
    "즉, 형제, 자매 또는 배우자와 함께 탑승한 인원 수에 따른 생존률의 차이는 크지 않다.<br>\n",
    "\n",
    "형제, 자매 또는 배우자와 함께 탑승한 인원이 없는 경우 생존률은 0.35이고<br>\n",
    "형제, 자매 또는 배우자와 함께 탑승한 인원이 한 명인 경우 생존률은 0.54이다."
   ]
  },
  {
   "cell_type": "markdown",
   "id": "b3348b68",
   "metadata": {},
   "source": [
    "5. Embarked와 survived의 관계를 살펴보자."
   ]
  },
  {
   "cell_type": "code",
   "execution_count": 176,
   "id": "812fb76c",
   "metadata": {},
   "outputs": [
    {
     "data": {
      "text/html": [
       "<div>\n",
       "<style scoped>\n",
       "    .dataframe tbody tr th:only-of-type {\n",
       "        vertical-align: middle;\n",
       "    }\n",
       "\n",
       "    .dataframe tbody tr th {\n",
       "        vertical-align: top;\n",
       "    }\n",
       "\n",
       "    .dataframe thead th {\n",
       "        text-align: right;\n",
       "    }\n",
       "</style>\n",
       "<table border=\"1\" class=\"dataframe\">\n",
       "  <thead>\n",
       "    <tr style=\"text-align: right;\">\n",
       "      <th></th>\n",
       "      <th>Embarked</th>\n",
       "      <th>Survived</th>\n",
       "    </tr>\n",
       "  </thead>\n",
       "  <tbody>\n",
       "    <tr>\n",
       "      <th>0</th>\n",
       "      <td>C</td>\n",
       "      <td>0.553571</td>\n",
       "    </tr>\n",
       "    <tr>\n",
       "      <th>1</th>\n",
       "      <td>Q</td>\n",
       "      <td>0.389610</td>\n",
       "    </tr>\n",
       "    <tr>\n",
       "      <th>2</th>\n",
       "      <td>S</td>\n",
       "      <td>0.339009</td>\n",
       "    </tr>\n",
       "  </tbody>\n",
       "</table>\n",
       "</div>"
      ],
      "text/plain": [
       "  Embarked  Survived\n",
       "0        C  0.553571\n",
       "1        Q  0.389610\n",
       "2        S  0.339009"
      ]
     },
     "execution_count": 176,
     "metadata": {},
     "output_type": "execute_result"
    }
   ],
   "source": [
    "df[['Embarked','Survived']].groupby(['Embarked'], as_index = False).mean().sort_values(by = 'Survived', ascending = False)"
   ]
  },
  {
   "cell_type": "markdown",
   "id": "35c4d349",
   "metadata": {},
   "source": [
    "타이타닉호는 S(Southampton)에서 출발해서 C(Cherbourg), Q(Queenstown)를 차례대로 거쳐서 출발한지 5일째에 빙산과 충돌했다고 한다.</br>\n",
    "위 결괏값에서 Cherbourg에서 탄 사람 중에서는 생존한 사람의 비율이 높고, </br>나머지 두 선착장에서 탄 사람들은 생존한 사람보다 그렇지 못한 사람이 조금 더 많은것을 알 수 있다.</br>\n",
    "위 결과를 토대로 간단한 도메인 지식을 검색해보니 Southampton에서 선착한 사람이 가장 많았다고 한다. </br>\n",
    "</br>\n",
    "아마 S(Southampton)에서 탑승한 사람이 조금 더 피로감을 느꼈을 거라 생각해 S, C, Q 셋 중 Survived 값이 가장 낮다고 생각이 든다."
   ]
  },
  {
   "cell_type": "code",
   "execution_count": 119,
   "id": "0fce5cee",
   "metadata": {},
   "outputs": [
    {
     "data": {
      "image/png": "[encoded data removed]",
      "text/plain": [
       "<Figure size 640x480 with 1 Axes>"
      ]
     },
     "metadata": {},
     "output_type": "display_data"
    }
   ],
   "source": [
    "sns.barplot(x = 'Embarked', y = 'Survived', data = df) #barplot()함수를 이용해 막대 그래프 그리기 (시각화)\n",
    "plt.show()"
   ]
  },
  {
   "cell_type": "markdown",
   "id": "eee134fe",
   "metadata": {},
   "source": [
    "6. Age별 Survived에 대한 히스토그램을 그려보자."
   ]
  },
  {
   "cell_type": "code",
   "execution_count": 160,
   "id": "832d7199",
   "metadata": {},
   "outputs": [
    {
     "data": {
      "image/png": "[encoded data removed]",
      "text/plain": [
       "<Figure size 600x300 with 2 Axes>"
      ]
     },
     "metadata": {},
     "output_type": "display_data"
    }
   ],
   "source": [
    "df_age = sns.FacetGrid(df, col = 'Survived') #Survived 열을 기준으로 FacetGrid를 만든다.\n",
    "df_age.map(plt.hist, 'Age', bins = 20) #히스토그램 구간(bin) 갯수 설정\n",
    "plt.show()"
   ]
  },
  {
   "cell_type": "markdown",
   "id": "d1e5c919",
   "metadata": {},
   "source": [
    "FacetGrid는 데이터를 그룹화하여 서로 다른 서브플롯에 시각화할 수 있는 그리드 형태의 객체이다. </br>\n",
    "위 결괏값을 통해, 생존(Survived = 1)과 비생존(Survived = 0) 그룹의 나이 분포를 비교할 수 있다. </br>\n",
    "막대의 높이가 높을수록 해당 나이 구간에 속하는 승객이 많다는 의미이다."
   ]
  },
  {
   "cell_type": "markdown",
   "id": "af9876cc",
   "metadata": {},
   "source": [
    "7. Pclass에 따른 Age별 Survived에 대한 히스토그램을 그려보자. "
   ]
  },
  {
   "cell_type": "code",
   "execution_count": 114,
   "id": "35532d84",
   "metadata": {},
   "outputs": [
    {
     "data": {
      "image/png": "[encoded data removed]",
      "text/plain": [
       "<Figure size 600x900 with 6 Axes>"
      ]
     },
     "metadata": {},
     "output_type": "display_data"
    }
   ],
   "source": [
    "df_Pclass_Age = sns.FacetGrid(df, col = 'Survived', row = 'Pclass')\n",
    "df_Pclass_Age.map_dataframe(plt.hist, 'Age', bins = 20)\n",
    "plt.show()"
   ]
  },
  {
   "cell_type": "markdown",
   "id": "4886eb42",
   "metadata": {},
   "source": [
    "# 생존에 영향을 미치는 잠재 인자 도출"
   ]
  },
  {
   "cell_type": "markdown",
   "id": "b0284193",
   "metadata": {},
   "source": [
    "생존률에 영향을 미치는 영향인자 도출을 위해 다음과 같이 가설을 세우고, 위 결과를 토대로 정리해보자."
   ]
  },
  {
   "cell_type": "markdown",
   "id": "f4abe06b",
   "metadata": {},
   "source": [
    ">가설 1 : 선실등급은 생존에 영향을 주는 설명변수일 것이다."
   ]
  },
  {
   "cell_type": "markdown",
   "id": "2724008b",
   "metadata": {},
   "source": [
    "견해 : 선실등급이 높을 수록 생존률이 높았기에, 선실등급은 생존에 영향을 주는 변수이다.</br>\n",
    "또한, 사고가 나면 1, 2, 3등급 모두 탈출하려고 할텐데 1등급에 타있는 사람의 생존률이 높은 것으로봐서 탈출하기 좋은 위치에 있었을 거라 예상된다. "
   ]
  },
  {
   "cell_type": "markdown",
   "id": "da19f2e9",
   "metadata": {},
   "source": [
    ">가설 2 : 성별은 생존에 영향을 주는 설명변수일 것이다."
   ]
  },
  {
   "cell_type": "markdown",
   "id": "a33c6a2d",
   "metadata": {},
   "source": [
    "견해 : 1912년에는 'Lady First'라는 개념이 존재했고, 결과 또한 남성보다 여성의 생존률이 높다는 사실을 확인할 수 있었다. </br>\n",
    "그렇기에 성별은 생존에 영향을 주는 변수라 생각한다."
   ]
  },
  {
   "cell_type": "markdown",
   "id": "754d7a6e",
   "metadata": {},
   "source": [
    "> 가설 3 : 나이는 생존에 영향을 주는 설명변수일 것이다."
   ]
  },
  {
   "cell_type": "markdown",
   "id": "fef4587c",
   "metadata": {},
   "source": [
    "견해 : 1등급보다 상대적으로 생존률이 낮은 2등급, 3등급에서는 어린아이의 생존확률이 높았다.</br> 시대적 관점으로 보아, 여성과 어린아이 먼저 구출했을 거라 예상된다."
   ]
  },
  {
   "cell_type": "markdown",
   "id": "8c798a52",
   "metadata": {},
   "source": [
    "> 가설 4 : 승선장소는 생존에 영향을 주는 설명변수일 것이다."
   ]
  },
  {
   "cell_type": "markdown",
   "id": "57ec5ec8",
   "metadata": {},
   "source": [
    "견해 : 승선장소는 C(Cherbourg)에서 탑승한 사람이 가장 생존률이 높았다. </br>\n",
    "보다 구체적인 데이터를 얻기 위해 C(Cherbourg)에서 탑승한 사람이 어떤 객실등급에 많이 탔는지 분석해보려 한다."
   ]
  },
  {
   "cell_type": "code",
   "execution_count": 170,
   "id": "3675c4d4",
   "metadata": {},
   "outputs": [
    {
     "data": {
      "text/plain": [
       "<Axes: xlabel='Embarked', ylabel='Pclass'>"
      ]
     },
     "execution_count": 170,
     "metadata": {},
     "output_type": "execute_result"
    },
    {
     "data": {
      "image/png": "[encoded data removed]",
      "text/plain": [
       "<Figure size 640x480 with 1 Axes>"
      ]
     },
     "metadata": {},
     "output_type": "display_data"
    }
   ],
   "source": [
    "sns.barplot(x = 'Embarked', y = 'Pclass', data = df)"
   ]
  },
  {
   "cell_type": "markdown",
   "id": "2753c7b8",
   "metadata": {},
   "source": [
    "위 barplot 결괏값을 살펴보면 C(Cherbourg)에서 탑승한 사람들의 객실 등급이 1등급쪽에 더 가깝다.\n",
    "위 결과를 토대로 간단한 도메인 지식을 검색해보니 Cherbourg는 프랑스의 항구도시, Queenstown은 뉴질랜드의 도시 중 하나, Southampton은 영국의 항구도시로 나타났다.\n",
    "하지만 해당 자료만으로는 장소에 따른 생존율 차이가 나타났는지는 단정짓기는 어려울 거같다.\n",
    "대신 1990년대 국가별 GDP를 확인해보니, 뉴질랜드 순위가 낮은걸로 봐서 뉴질랜드에서 3등급 객실에 많이 탑승했을 거란 생각이 든다."
   ]
  },
  {
   "cell_type": "markdown",
   "id": "e2d9aedc",
   "metadata": {},
   "source": [
    ">가설 5 : 티켓 가격은 생존에 영향을 주는 설명변수일 것이다."
   ]
  },
  {
   "cell_type": "markdown",
   "id": "80a96e2a",
   "metadata": {},
   "source": [
    "티켓 가격은 결국 객실 등급과 밀접한 관련이 있다 판단하여, 티켓 가격도 생존에 영향을 주는 변수일 것이다."
   ]
  },
  {
   "cell_type": "markdown",
   "id": "b14c43c1",
   "metadata": {},
   "source": [
    "> 가설 6 : 함께 탑승수(형제, 배우자 또는 자녀, 부모)는 생존에 영향을 주는 설명변수일 것이다."
   ]
  },
  {
   "cell_type": "markdown",
   "id": "f27a5df0",
   "metadata": {},
   "source": [
    "함께 탑승한 사람이 많아질수록 생존확률이 급격하게 떨어지는 것을 확인했다.</br>\n",
    "하지만 함께 탑승한 사람이 1명 또는 2명일 경우에는 생존률이 높았다. </br>\n",
    "하지만 하나의 특성과 생존 비율 만을 생각해서 예측하기에는 무리가 있다고 생각이 든다.\n",
    "\n",
    "예를 들어 1등급 객실 티켓을 산 부유한 사람이 가족들이랑 왔을 경우가 많다고 가정해본다면, </br> 가족들과 함께 왔다고 해서 1등급 객실 티켓을 살 가능성이 높다고 할 수는 없으므로 </br>단일 특성을 가지고 생존 확률을 예측하기보단 여러가지 특성을 종합해서 예측하는 편이 좋다고 생각한다."
   ]
  },
  {
   "cell_type": "markdown",
   "id": "ff7a9a57",
   "metadata": {},
   "source": [
    "# 종합적으로 생존에 영향을 미치는 잠재 인자는 크게 다음과 같다"
   ]
  },
  {
   "cell_type": "markdown",
   "id": "120aa841",
   "metadata": {},
   "source": [
    "1. Pclass 승객 등급 \n",
    "2. Sex 성별\n",
    "3. Age 나이\n",
    "4. Embarked 승객이 탑승한 곳"
   ]
  }
 ],
 "metadata": {
  "kernelspec": {
   "display_name": "Python 3 (ipykernel)",
   "language": "python",
   "name": "python3"
  },
  "language_info": {
   "codemirror_mode": {
    "name": "ipython",
    "version": 3
   },
   "file_extension": ".py",
   "mimetype": "text/x-python",
   "name": "python",
   "nbconvert_exporter": "python",
   "pygments_lexer": "ipython3",
   "version": "3.10.9"
  }
 },
 "nbformat": 4,
 "nbformat_minor": 5
}
